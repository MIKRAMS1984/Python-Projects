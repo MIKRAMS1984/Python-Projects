{
  "cells": [
    {
      "cell_type": "markdown",
      "metadata": {
        "id": "view-in-github",
        "colab_type": "text"
      },
      "source": [
        "<a href=\"https://colab.research.google.com/github/MIKRAMS1984/Python-Projects/blob/main/M_Ikram_Shahzad_Lec1c_Linux_Basics_with_Descriptions_and_Exercises.ipynb\" target=\"_parent\"><img src=\"https://colab.research.google.com/assets/colab-badge.svg\" alt=\"Open In Colab\"/></a>"
      ]
    },
    {
      "cell_type": "markdown",
      "id": "40f4c398",
      "metadata": {
        "id": "40f4c398"
      },
      "source": [
        "# 🧠 Linux Command Line Tutorial with Matching Exercises – Colab Notebook"
      ]
    },
    {
      "cell_type": "markdown",
      "id": "9d92fc4d",
      "metadata": {
        "id": "9d92fc4d"
      },
      "source": [
        "### 📁 1. File System Navigation\n",
        "\n",
        "## Commands and Descriptions:\n",
        "- `pwd`: Print Working Directory – shows the current directory path.\n",
        "- `cd`: Change Directory – navigates to another directory.\n",
        "- `ls`: List – displays files and folders in the current directory.\n",
        "\n",
        "### Exercise 1:\n",
        "1. `___` : Shows the current working directory  \n",
        "2. `___` : Lists files and folders  \n",
        "3. `___` : Changes the current directory\n",
        "\n",
        "### Use this format in the next cell:\n",
        "answers = {\n",
        "    1: 'pwd',\n",
        "    2: 'ls',\n",
        "    3: 'cd'\n",
        "}"
      ]
    },
    {
      "cell_type": "code",
      "execution_count": null,
      "id": "4f4b8530",
      "metadata": {
        "id": "4f4b8530"
      },
      "outputs": [],
      "source": [
        "answers = {1: 'pwd', 2: 'ls', 3: 'cd'}"
      ]
    },
    {
      "cell_type": "markdown",
      "id": "c8aa1006",
      "metadata": {
        "id": "c8aa1006"
      },
      "source": [
        "### 📂 2. File Handling & Viewing\n",
        "\n",
        "## Commands and Descriptions:\n",
        "- `cat`: Concatenate – displays the content of a file.\n",
        "- `head`: Shows the first few lines of a file.\n",
        "- `tail`: Shows the last few lines of a file.\n",
        "- `more`: Basic paginated file viewer.\n",
        "- `less`: Advanced file viewer with navigation.\n",
        "\n",
        "### Exercise 2:\n",
        "1. `___` : Displays entire file content  \n",
        "2. `___` : Shows the first few lines  \n",
        "3. `___` : Shows the last few lines  \n",
        "4. `___` : Paged viewer (basic)  \n",
        "5. `___` : Advanced file pager"
      ]
    },
    {
      "cell_type": "code",
      "execution_count": 2,
      "id": "92aa4e33",
      "metadata": {
        "id": "92aa4e33",
        "colab": {
          "base_uri": "https://localhost:8080/"
        },
        "outputId": "d9a87f31-f1f2-4a1b-9384-d971a01b41b4"
      },
      "outputs": [
        {
          "output_type": "execute_result",
          "data": {
            "text/plain": [
              "{1: 'cat', 2: 'head', 3: 'tail', 4: 'more', 5: 'less'}"
            ]
          },
          "metadata": {},
          "execution_count": 2
        }
      ],
      "source": [
        "answers = { 1: 'cat', 2: 'head', 3: 'tail', 4: 'more', 5: 'less' }\n",
        "answers"
      ]
    },
    {
      "cell_type": "markdown",
      "id": "9d7e5048",
      "metadata": {
        "id": "9d7e5048"
      },
      "source": [
        "### ✏️ 3. File & Directory Management\n",
        "\n",
        "## Commands and Descriptions:\n",
        "- `touch`: Creates an empty file.\n",
        "- `mkdir`: Makes a new directory.\n",
        "- `cp`: Copies files or directories.\n",
        "- `mv`: Moves or renames files or directories.\n",
        "- `rm`: Removes (deletes) files.\n",
        "\n",
        "### Exercise 3:\n",
        "1. `___` : Creates an empty file  \n",
        "2. `___` : Creates a directory  \n",
        "3. `___` : Deletes a file  \n",
        "4. `___` : Copies a file  \n",
        "5. `___` : Moves or renames a file"
      ]
    },
    {
      "cell_type": "code",
      "execution_count": 3,
      "id": "6034da25",
      "metadata": {
        "id": "6034da25",
        "colab": {
          "base_uri": "https://localhost:8080/"
        },
        "outputId": "e99b29a3-f3f4-4cb1-ee85-a5ae20d99946"
      },
      "outputs": [
        {
          "output_type": "execute_result",
          "data": {
            "text/plain": [
              "{1: 'touch', 2: 'mkdir', 3: 'rm', 4: 'cp', 5: 'mv'}"
            ]
          },
          "metadata": {},
          "execution_count": 3
        }
      ],
      "source": [
        "answers = { 1: 'touch', 2: 'mkdir', 3: 'rm', 4: 'cp', 5: 'mv' }\n",
        "answers"
      ]
    },
    {
      "cell_type": "markdown",
      "id": "b7b6cf97",
      "metadata": {
        "id": "b7b6cf97"
      },
      "source": [
        "### 🔐 4. Permissions & Processes\n",
        "\n",
        "## Commands and Descriptions:\n",
        "- `chmod`: Changes file permissions.\n",
        "- `ps`: Displays active processes.\n",
        "- `kill`: Ends (kills) a process by its ID.\n",
        "\n",
        "### Exercise 4:\n",
        "1. `___` : Lists currently running processes  \n",
        "2. `___` : Terminates a process  \n",
        "3. `___` : Changes file permissions"
      ]
    },
    {
      "cell_type": "code",
      "execution_count": 4,
      "id": "11d06699",
      "metadata": {
        "id": "11d06699",
        "colab": {
          "base_uri": "https://localhost:8080/"
        },
        "outputId": "74bc21f0-8c15-4c05-f006-6f5637171590"
      },
      "outputs": [
        {
          "output_type": "execute_result",
          "data": {
            "text/plain": [
              "{1: 'ps', 2: 'kill', 3: 'chmod'}"
            ]
          },
          "metadata": {},
          "execution_count": 4
        }
      ],
      "source": [
        "answers = { 1: 'ps', 2: 'kill', 3: 'chmod' }\n",
        "answers"
      ]
    },
    {
      "cell_type": "markdown",
      "id": "586954bc",
      "metadata": {
        "id": "586954bc"
      },
      "source": [
        "### 🧩 5. System and Shell Commands\n",
        "\n",
        "## Commands and Descriptions:\n",
        "- `sudo`: Runs commands with superuser privileges.\n",
        "- `bash`: Starts the Bash shell.\n",
        "- `sh`: Starts a basic shell (alternative to bash).\n",
        "- `nano`: A simple command-line text editor.\n",
        "- `man`: Displays the manual/help for a command.\n",
        "\n",
        "### Exercise 5:\n",
        "1. `___` : Opens the command-line text editor  \n",
        "2. `___` : Runs shell scripts (Bash shell)  \n",
        "3. `___` : Displays command documentation  \n",
        "4. `___` : Executes with superuser privileges  \n",
        "5. `___` : Basic shell interpreter"
      ]
    },
    {
      "cell_type": "code",
      "execution_count": 6,
      "id": "9bf814f4",
      "metadata": {
        "id": "9bf814f4",
        "colab": {
          "base_uri": "https://localhost:8080/"
        },
        "outputId": "3ab9ce6a-4e86-4c80-825a-b86214785abf"
      },
      "outputs": [
        {
          "output_type": "execute_result",
          "data": {
            "text/plain": [
              "{1: 'nano', 2: 'bash', 3: 'man', 4: 'sudo', 5: 'sh'}"
            ]
          },
          "metadata": {},
          "execution_count": 6
        }
      ],
      "source": [
        "answers = { 1: 'nano', 2: 'bash', 3: 'man', 4: 'sudo', 5: 'sh' }\n",
        "answers"
      ]
    },
    {
      "cell_type": "markdown",
      "id": "d78a861f",
      "metadata": {
        "id": "d78a861f"
      },
      "source": [
        "### 🔄 6. Package Management & Environment Variables\n",
        "\n",
        "## Commands and Descriptions:\n",
        "- `dpkg`: Debian package manager to install/query packages.\n",
        "- `apt`: Command-line tool to handle packages (install, update).\n",
        "- `export`: Sets environment variables.\n",
        "- `echo`: Displays output, often used to show variable values.\n",
        "\n",
        "### Exercise 6:\n",
        "1. `___` : Prints environment variable value  \n",
        "2. `___` : Sets environment variables  \n",
        "3. `___` : Installs or lists Debian packages  \n",
        "4. `___` : Updates and upgrades packages"
      ]
    },
    {
      "cell_type": "code",
      "execution_count": 7,
      "id": "97ea5b9b",
      "metadata": {
        "id": "97ea5b9b",
        "colab": {
          "base_uri": "https://localhost:8080/"
        },
        "outputId": "b555e27a-dc68-465f-985f-c4ae194f0581"
      },
      "outputs": [
        {
          "output_type": "execute_result",
          "data": {
            "text/plain": [
              "{1: 'echo', 2: 'export', 3: 'dpkg', 4: 'apt'}"
            ]
          },
          "metadata": {},
          "execution_count": 7
        }
      ],
      "source": [
        "answers = { 1: 'echo', 2: 'export', 3: 'dpkg', 4: 'apt' }\n",
        "answers"
      ]
    },
    {
      "cell_type": "markdown",
      "id": "a5ad68ce",
      "metadata": {
        "id": "a5ad68ce"
      },
      "source": [
        "### 🔧 7. Power & Alias\n",
        "\n",
        "## Commands and Descriptions:\n",
        "- `alias`: Creates a shortcut for another command.\n",
        "- `shutdown`: Turns off the system.\n",
        "- `reboot`: Restarts the system.\n",
        "\n",
        "### Exercise 7:\n",
        "1. `___` : Defines a shortcut for a command  \n",
        "2. `___` : Restarts the machine  \n",
        "3. `___` : Powers off the system"
      ]
    },
    {
      "cell_type": "code",
      "execution_count": 8,
      "id": "345537a6",
      "metadata": {
        "id": "345537a6",
        "colab": {
          "base_uri": "https://localhost:8080/"
        },
        "outputId": "f94ca2f6-054d-4d78-b8cc-6d9f8c5b7607"
      },
      "outputs": [
        {
          "output_type": "execute_result",
          "data": {
            "text/plain": [
              "{1: 'alias', 2: 'reboot', 3: 'shutdown'}"
            ]
          },
          "metadata": {},
          "execution_count": 8
        }
      ],
      "source": [
        "answers = { 1:'alias', 2: 'reboot', 3: 'shutdown' }\n",
        "answers"
      ]
    },
    {
      "cell_type": "markdown",
      "id": "0227c483",
      "metadata": {
        "id": "0227c483"
      },
      "source": [
        "## 📘 Introduction to Debian\n",
        "\n",
        "### What is Debian?\n",
        "\n",
        "Debian is a free and open-source operating system (OS) based on the Linux kernel. It is one of the oldest and most influential Linux distributions, known for its stability, security, and wide range of supported software.\n",
        "\n",
        "Debian forms the foundation for many other distributions including **Ubuntu**, which is in turn used by **Google Colab**.\n",
        "\n",
        "### Key Features:\n",
        "- Package manager: `dpkg` and `apt`\n",
        "- Community-driven development\n",
        "- Supports multiple CPU architectures\n",
        "- Long-Term Support (LTS) releases available\n",
        "\n",
        "### Why Learn Debian-based Commands?\n",
        "\n",
        "Learning Debian command-line basics is highly transferable because many modern Linux systems (including servers and cloud environments) are Debian-based.\n",
        "\n",
        "This tutorial is tailored to Debian/Ubuntu systems, making it ideal for:\n",
        "- Beginners on Linux\n",
        "- Developers using Ubuntu\n",
        "- Google Colab users"
      ]
    }
  ],
  "metadata": {
    "colab": {
      "provenance": [],
      "include_colab_link": true
    },
    "language_info": {
      "name": "python"
    },
    "kernelspec": {
      "name": "python3",
      "display_name": "Python 3"
    }
  },
  "nbformat": 4,
  "nbformat_minor": 5
}