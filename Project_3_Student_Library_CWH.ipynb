{
  "nbformat": 4,
  "nbformat_minor": 0,
  "metadata": {
    "colab": {
      "provenance": [],
      "authorship_tag": "ABX9TyOCbMu1SNajmfOJAV7QcTyH",
      "include_colab_link": true
    },
    "kernelspec": {
      "name": "python3",
      "display_name": "Python 3"
    },
    "language_info": {
      "name": "python"
    }
  },
  "cells": [
    {
      "cell_type": "markdown",
      "metadata": {
        "id": "view-in-github",
        "colab_type": "text"
      },
      "source": [
        "<a href=\"https://colab.research.google.com/github/MIKRAMS1984/Python-Projects/blob/main/Project_3_Student_Library_CWH.ipynb\" target=\"_parent\"><img src=\"https://colab.research.google.com/assets/colab-badge.svg\" alt=\"Open In Colab\"/></a>"
      ]
    },
    {
      "cell_type": "code",
      "execution_count": null,
      "metadata": {
        "id": "LzkMMfhlxlZj"
      },
      "outputs": [],
      "source": [
        "'''\n",
        "Implement a student library system using OOPs, where students can borrow a book from the list of books.\n",
        "Create a separate library adn student class. Your program must be menu driven. You are free to choose methods and \n",
        "attributes of your choice to implement this functionality.\n",
        "'''"
      ]
    },
    {
      "cell_type": "code",
      "source": [
        "# Implementation steps.\n",
        "'''\n",
        "1. Create 2 classes for library and student.\n",
        "2. Create constructor and method in class library.\n",
        "3. Creatre object using class library and print available books.\n",
        "4. def borrowbook method.\n",
        "5. def returnbook method.\n",
        "6. def requestBook() for student class.\n",
        "7. def returnBook() for student class.\n",
        "8. Using while True write menu code.\n",
        "'''"
      ],
      "metadata": {
        "colab": {
          "base_uri": "https://localhost:8080/",
          "height": 72
        },
        "id": "YUReSMkcZ813",
        "outputId": "5a626356-7b62-4b1c-f110-41bdd1d04112"
      },
      "execution_count": null,
      "outputs": [
        {
          "output_type": "execute_result",
          "data": {
            "text/plain": [
              "'\\n1. Create 2 classes for library and student.\\n2. Create constructor and method in class library.\\n3. Creatre object using class library and print available books.\\n4. def borrowbook method.\\n5. def returnbook method.\\n6. def requestBook() for student class.\\n7. def returnBook() for student class.\\n8. Using while True write menu code.\\n'"
            ],
            "application/vnd.google.colaboratory.intrinsic+json": {
              "type": "string"
            }
          },
          "metadata": {},
          "execution_count": 12
        }
      ]
    },
    {
      "cell_type": "code",
      "source": [
        "class library:\n",
        "\n",
        "  def __init__(self, listOfBooks):\n",
        "    self.books = listOfBooks\n",
        "  \n",
        "  def displayAvailableBooks(self):\n",
        "    print(\"\\nBooks present in this libarary are: \")\n",
        "    for book in self.books:\n",
        "      print(\" *\" + book)\n",
        "\n",
        "  def borrowbook(self, bookName):\n",
        "    if bookName in self.books:\n",
        "      print(f\"You have been issued {bookName}, Please keep it safe and return it within 30 days.\")\n",
        "      self.books.remove(bookName)\n",
        "      return True\n",
        "    else:\n",
        "      print(\" Sorry, Book already issued to someone else!\")\n",
        "      return False\n",
        "\n",
        "  def returnbook(self, bookName):\n",
        "    self.books.append(bookName)\n",
        "    print(\"Thanks for returning the book.\")\n",
        "\n",
        "class Student:\n",
        "  \n",
        "  def requestbook(self):\n",
        "      reqbook = input(\"enter the name book to borrow.\")\n",
        "      self.book = reqbook \n",
        "\n",
        "  def returnbook(self):\n",
        "     self.book = input(\"enter the name book to return.\")\n",
        "     return self.book\n",
        "  \n",
        "\n",
        "#if __name__ == \"__main\":\n",
        "centrallibrary = library([\"Algorithms\", \"Django\", \"Clrs\", \"Python Notes\"\"\\n\"])\n",
        "  #centrallibrary.displayAvailableBooks()\n",
        "student = Student()\n",
        "\n",
        "while(True):\n",
        "    welcomeMsg = '''***Welcome to central library!***\\n\n",
        "    Please choose an option:\n",
        "    1. Books list.\n",
        "    2. Request a book.\n",
        "    3. Return a book.\n",
        "    4. Exit\n",
        "    '''\n",
        "    print(welcomeMsg)\n",
        "    a = int(input(\"enter a choice!\"))\n",
        "    if a == 1:\n",
        "      centrallibrary.displayAvailableBooks()\n",
        "    elif a == 2:\n",
        "      centrallibrary.borrowbook(student.requestbook())\n",
        "    elif a == 3:\n",
        "      centrallibrary.returnbook(student.returnbook())\n",
        "    elif a == 4:\n",
        "      print(\"Thanks for visiting central library!\\n\")\n",
        "      exit()\n",
        "    else:\n",
        "      print(\"Invalid Choice.\\n\")"
      ],
      "metadata": {
        "colab": {
          "base_uri": "https://localhost:8080/",
          "height": 1000
        },
        "id": "pKCIbvYqyaO7",
        "outputId": "249c9397-cf45-44d8-b501-cd565003f0c2"
      },
      "execution_count": null,
      "outputs": [
        {
          "output_type": "stream",
          "name": "stdout",
          "text": [
            "***Welcome to central library!***\n",
            "\n",
            "    Please choose an option:\n",
            "    1. Books list.\n",
            "    2. Request a book.\n",
            "    3. Return a book.\n",
            "    4. Exit\n",
            "    \n",
            "enter a choice!1\n",
            "\n",
            "Books present in this libarary are: \n",
            " *Algorithms\n",
            " *Django\n",
            " *Clrs\n",
            " *Python Notes\n",
            "\n",
            "***Welcome to central library!***\n",
            "\n",
            "    Please choose an option:\n",
            "    1. Books list.\n",
            "    2. Request a book.\n",
            "    3. Return a book.\n",
            "    4. Exit\n",
            "    \n",
            "enter a choice!2\n",
            "enter the name book to borrow.Clrs\n",
            " Sorry, Book already issued to someone else!\n",
            "***Welcome to central library!***\n",
            "\n",
            "    Please choose an option:\n",
            "    1. Books list.\n",
            "    2. Request a book.\n",
            "    3. Return a book.\n",
            "    4. Exit\n",
            "    \n",
            "enter a choice!3\n",
            "enter the name book to return.Clrs\n",
            "Thanks for returning the book.\n",
            "***Welcome to central library!***\n",
            "\n",
            "    Please choose an option:\n",
            "    1. Books list.\n",
            "    2. Request a book.\n",
            "    3. Return a book.\n",
            "    4. Exit\n",
            "    \n",
            "enter a choice!4\n",
            "Thanks for visiting central library!\n",
            "***Welcome to central library!***\n",
            "\n",
            "    Please choose an option:\n",
            "    1. Books list.\n",
            "    2. Request a book.\n",
            "    3. Return a book.\n",
            "    4. Exit\n",
            "    \n"
          ]
        },
        {
          "output_type": "error",
          "ename": "KeyboardInterrupt",
          "evalue": "ignored",
          "traceback": [
            "\u001b[0;31m---------------------------------------------------------------------------\u001b[0m",
            "\u001b[0;31mKeyboardInterrupt\u001b[0m                         Traceback (most recent call last)",
            "\u001b[0;32m<ipython-input-7-86a16480f434>\u001b[0m in \u001b[0;36m<cell line: 40>\u001b[0;34m()\u001b[0m\n\u001b[1;32m     47\u001b[0m     '''\n\u001b[1;32m     48\u001b[0m     \u001b[0mprint\u001b[0m\u001b[0;34m(\u001b[0m\u001b[0mwelcomeMsg\u001b[0m\u001b[0;34m)\u001b[0m\u001b[0;34m\u001b[0m\u001b[0;34m\u001b[0m\u001b[0m\n\u001b[0;32m---> 49\u001b[0;31m     \u001b[0ma\u001b[0m \u001b[0;34m=\u001b[0m \u001b[0mint\u001b[0m\u001b[0;34m(\u001b[0m\u001b[0minput\u001b[0m\u001b[0;34m(\u001b[0m\u001b[0;34m\"enter a choice!\"\u001b[0m\u001b[0;34m)\u001b[0m\u001b[0;34m)\u001b[0m\u001b[0;34m\u001b[0m\u001b[0;34m\u001b[0m\u001b[0m\n\u001b[0m\u001b[1;32m     50\u001b[0m     \u001b[0;32mif\u001b[0m \u001b[0ma\u001b[0m \u001b[0;34m==\u001b[0m \u001b[0;36m1\u001b[0m\u001b[0;34m:\u001b[0m\u001b[0;34m\u001b[0m\u001b[0;34m\u001b[0m\u001b[0m\n\u001b[1;32m     51\u001b[0m       \u001b[0mcentrallibrary\u001b[0m\u001b[0;34m.\u001b[0m\u001b[0mdisplayAvailableBooks\u001b[0m\u001b[0;34m(\u001b[0m\u001b[0;34m)\u001b[0m\u001b[0;34m\u001b[0m\u001b[0;34m\u001b[0m\u001b[0m\n",
            "\u001b[0;32m/usr/local/lib/python3.10/dist-packages/ipykernel/kernelbase.py\u001b[0m in \u001b[0;36mraw_input\u001b[0;34m(self, prompt)\u001b[0m\n\u001b[1;32m    849\u001b[0m                 \u001b[0;34m\"raw_input was called, but this frontend does not support input requests.\"\u001b[0m\u001b[0;34m\u001b[0m\u001b[0;34m\u001b[0m\u001b[0m\n\u001b[1;32m    850\u001b[0m             )\n\u001b[0;32m--> 851\u001b[0;31m         return self._input_request(str(prompt),\n\u001b[0m\u001b[1;32m    852\u001b[0m             \u001b[0mself\u001b[0m\u001b[0;34m.\u001b[0m\u001b[0m_parent_ident\u001b[0m\u001b[0;34m,\u001b[0m\u001b[0;34m\u001b[0m\u001b[0;34m\u001b[0m\u001b[0m\n\u001b[1;32m    853\u001b[0m             \u001b[0mself\u001b[0m\u001b[0;34m.\u001b[0m\u001b[0m_parent_header\u001b[0m\u001b[0;34m,\u001b[0m\u001b[0;34m\u001b[0m\u001b[0;34m\u001b[0m\u001b[0m\n",
            "\u001b[0;32m/usr/local/lib/python3.10/dist-packages/ipykernel/kernelbase.py\u001b[0m in \u001b[0;36m_input_request\u001b[0;34m(self, prompt, ident, parent, password)\u001b[0m\n\u001b[1;32m    893\u001b[0m             \u001b[0;32mexcept\u001b[0m \u001b[0mKeyboardInterrupt\u001b[0m\u001b[0;34m:\u001b[0m\u001b[0;34m\u001b[0m\u001b[0;34m\u001b[0m\u001b[0m\n\u001b[1;32m    894\u001b[0m                 \u001b[0;31m# re-raise KeyboardInterrupt, to truncate traceback\u001b[0m\u001b[0;34m\u001b[0m\u001b[0;34m\u001b[0m\u001b[0m\n\u001b[0;32m--> 895\u001b[0;31m                 \u001b[0;32mraise\u001b[0m \u001b[0mKeyboardInterrupt\u001b[0m\u001b[0;34m(\u001b[0m\u001b[0;34m\"Interrupted by user\"\u001b[0m\u001b[0;34m)\u001b[0m \u001b[0;32mfrom\u001b[0m \u001b[0;32mNone\u001b[0m\u001b[0;34m\u001b[0m\u001b[0;34m\u001b[0m\u001b[0m\n\u001b[0m\u001b[1;32m    896\u001b[0m             \u001b[0;32mexcept\u001b[0m \u001b[0mException\u001b[0m \u001b[0;32mas\u001b[0m \u001b[0me\u001b[0m\u001b[0;34m:\u001b[0m\u001b[0;34m\u001b[0m\u001b[0;34m\u001b[0m\u001b[0m\n\u001b[1;32m    897\u001b[0m                 \u001b[0mself\u001b[0m\u001b[0;34m.\u001b[0m\u001b[0mlog\u001b[0m\u001b[0;34m.\u001b[0m\u001b[0mwarning\u001b[0m\u001b[0;34m(\u001b[0m\u001b[0;34m\"Invalid Message:\"\u001b[0m\u001b[0;34m,\u001b[0m \u001b[0mexc_info\u001b[0m\u001b[0;34m=\u001b[0m\u001b[0;32mTrue\u001b[0m\u001b[0;34m)\u001b[0m\u001b[0;34m\u001b[0m\u001b[0;34m\u001b[0m\u001b[0m\n",
            "\u001b[0;31mKeyboardInterrupt\u001b[0m: Interrupted by user"
          ]
        }
      ]
    }
  ]
}